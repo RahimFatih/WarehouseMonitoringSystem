{
 "cells": [
  {
   "cell_type": "code",
   "execution_count": null,
   "metadata": {},
   "outputs": [],
   "source": [
    "from time import sleep\n",
    "import random\n",
    "from opcua import Server"
   ]
  },
  {
   "cell_type": "code",
   "execution_count": null,
   "metadata": {},
   "outputs": [],
   "source": [
    "server = Server()\n",
    "server.set_endpoint(\"opc.tcp://127.0.0.1:4840\")\n",
    "server.register_namespace(\"Room1\")"
   ]
  },
  {
   "cell_type": "code",
   "execution_count": null,
   "metadata": {},
   "outputs": [],
   "source": [
    "objects=server.get_objects_node()\n",
    "tempsens=objects.add_object('ns=2;s=\"TS1\"', \"Temperature Sensor 1\")\n",
    "tempsens.add_variable('ns=2;s=\"TS1_VendorName\"',\"TS1 Vendor Name\",\"Sensor King\")\n",
    "temp = tempsens.add_variable('ns=2;s=\"TS1_Temperature\"',\"TS1 Temperature\",20)\n"
   ]
  },
  {
   "cell_type": "code",
   "execution_count": 2,
   "metadata": {},
   "outputs": [
    {
     "data": {
      "text/plain": [
       "2"
      ]
     },
     "execution_count": 2,
     "metadata": {},
     "output_type": "execute_result"
    }
   ],
   "source": [
    "server = Server()\n",
    "server.set_endpoint(\"opc.tcp://127.0.0.1:4840\")\n",
    "server.register_namespace(\"Room1\")"
   ]
  }
 ],
 "metadata": {
  "kernelspec": {
   "display_name": "Python 3",
   "language": "python",
   "name": "python3"
  },
  "language_info": {
   "codemirror_mode": {
    "name": "ipython",
    "version": 3
   },
   "file_extension": ".py",
   "mimetype": "text/x-python",
   "name": "python",
   "nbconvert_exporter": "python",
   "pygments_lexer": "ipython3",
   "version": "3.11.1"
  },
  "orig_nbformat": 4
 },
 "nbformat": 4,
 "nbformat_minor": 2
}
